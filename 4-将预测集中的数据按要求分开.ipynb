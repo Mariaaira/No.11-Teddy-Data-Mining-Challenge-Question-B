{
 "cells": [
  {
   "cell_type": "code",
   "execution_count": null,
   "metadata": {
    "collapsed": true
   },
   "outputs": [],
   "source": [
    "from datetime import date\n",
    "from sklearn.preprocessing import MinMaxScaler\n",
    "import pandas as pd\n",
    "import numpy as np\n",
    "import random as rnd\n",
    "\n",
    "# visualization\n",
    "import seaborn as sns\n",
    "import matplotlib.pyplot as plt\n",
    "from numpy.random import gamma\n",
    "\n",
    "df = pd.read_csv(\"数据源/order_train1.csv\", encoding=\"gbk\")\n",
    "df[\"order_date\"]=df[\"order_date\"].apply(pd.to_datetime,format='%Y-%m-%d')\n",
    "# data.drop('order_date', axis=1, inplace=True)\n",
    "\n",
    "df = df.set_index('order_date')\n",
    "df_train = df[['sales_region_code', 'item_code', 'first_cate_code','second_cate_code','ord_qty']]"
   ]
  },
  {
   "cell_type": "code",
   "execution_count": null,
   "outputs": [],
   "source": [
    "pre = pd.read_csv(\"predict_sku1.csv\", encoding=\"gbk\")\n",
    "## 查看预测数据\n",
    "data_pre = pd.DataFrame(pre,columns=['sales_region_code','item_code', 'first_cate_code', 'second_cate_code'])\n",
    "# groupby(['sales_region_code'])['ord_qty'].sum().sort_values()"
   ],
   "metadata": {
    "collapsed": false
   }
  },
  {
   "cell_type": "markdown",
   "source": [],
   "metadata": {
    "collapsed": false
   }
  },
  {
   "cell_type": "code",
   "execution_count": null,
   "outputs": [],
   "source": [
    "data_pre.shape"
   ],
   "metadata": {
    "collapsed": false
   }
  },
  {
   "cell_type": "code",
   "execution_count": null,
   "outputs": [],
   "source": [
    "predictions_df = pd.DataFrame(columns=['sales_region_code', 'item_code', 'first_cate_code', 'second_cate_code', 'mse', 'prediction_1_month', 'prediction_2_month', 'prediction_3_month'])"
   ],
   "metadata": {
    "collapsed": false
   }
  },
  {
   "cell_type": "code",
   "execution_count": null,
   "outputs": [],
   "source": [
    "df_train1 = df_train[['sales_region_code', 'item_code', 'first_cate_code','second_cate_code']]"
   ],
   "metadata": {
    "collapsed": false
   }
  },
  {
   "cell_type": "code",
   "execution_count": null,
   "outputs": [],
   "source": [
    "df_train1 = df_train1.reset_index(drop=True)"
   ],
   "metadata": {
    "collapsed": false
   }
  },
  {
   "cell_type": "code",
   "execution_count": null,
   "outputs": [],
   "source": [
    "df_train1"
   ],
   "metadata": {
    "collapsed": false
   }
  },
  {
   "cell_type": "markdown",
   "source": [
    "预测集中4个特征的值在训练集中都有的数据，保存到pred-有.csv"
   ],
   "metadata": {
    "collapsed": false
   }
  },
  {
   "cell_type": "code",
   "execution_count": null,
   "outputs": [],
   "source": [
    "predictions_df = pd.DataFrame(columns=['sales_region_code', 'item_code', 'first_cate_code', 'second_cate_code', ])\n",
    "for i in range(len(data_pre)):\n",
    "    sales_region_code, item_code, first_cate_code, second_cate_code = data_pre.iloc[i, :]\n",
    "    # print(sales_region_code, item_code, first_cate_code, second_cate_code)\n",
    "    if len(df_train[(df_train['sales_region_code'] == sales_region_code) & (df_train['item_code'] == item_code) & (df_train['first_cate_code'] == first_cate_code) & (df_train['second_cate_code'] == second_cate_code)])>0:\n",
    "\n",
    "        predictions_df.loc[i] = {'sales_region_code': sales_region_code,\n",
    "                        'item_code': item_code,\n",
    "                        'first_cate_code': first_cate_code,\n",
    "                        'second_cate_code': second_cate_code}\n",
    "\n",
    "predictions_df.to_csv(\"pred-有.csv\", index=False, encoding='utf-8')\n",
    "print(predictions_df.shape)"
   ],
   "metadata": {
    "collapsed": false
   }
  },
  {
   "cell_type": "markdown",
   "source": [
    "预测集中4个特征的值在训练集中不完全有的数据，保存到pred-无.csv"
   ],
   "metadata": {
    "collapsed": false
   }
  },
  {
   "cell_type": "code",
   "execution_count": null,
   "outputs": [],
   "source": [
    "predictions_df = pd.DataFrame(columns=['sales_region_code', 'item_code', 'first_cate_code', 'second_cate_code', ])\n",
    "for i in range(len(data_pre)):\n",
    "    sales_region_code, item_code, first_cate_code, second_cate_code = data_pre.iloc[i, :]\n",
    "    # print(sales_region_code, item_code, first_cate_code, second_cate_code)\n",
    "    if len(df_train[(df_train['sales_region_code'] == sales_region_code) & (df_train['item_code'] == item_code) & (df_train['first_cate_code'] == first_cate_code) & (df_train['second_cate_code'] == second_cate_code)])==0:\n",
    "\n",
    "        predictions_df.loc[i] = {'sales_region_code': sales_region_code,\n",
    "                        'item_code': item_code,\n",
    "                        'first_cate_code': first_cate_code,\n",
    "                        'second_cate_code': second_cate_code}\n",
    "\n",
    "predictions_df.to_csv(\"pred-无.csv\", index=False, encoding='utf-8')\n",
    "print(predictions_df.shape)"
   ],
   "metadata": {
    "collapsed": false
   }
  },
  {
   "cell_type": "markdown",
   "source": [
    "预测集中item_code特征的值在训练集中不存在的数据，保存到pred-item_code.csv"
   ],
   "metadata": {
    "collapsed": false
   }
  },
  {
   "cell_type": "code",
   "execution_count": null,
   "outputs": [],
   "source": [
    "data_pre = pd.read_csv('pred-无.csv', encoding=\"gbk\")\n",
    "\n",
    "predictions_df = pd.DataFrame(columns=['sales_region_code', 'item_code', 'first_cate_code', 'second_cate_code', ])\n",
    "for i in range(len(data_pre)):\n",
    "    sales_region_code, item_code, first_cate_code, second_cate_code = data_pre.iloc[i, :]\n",
    "    # print(sales_region_code, item_code, first_cate_code, second_cate_code)\n",
    "    if item_code not in df_train['item_code'].unique():\n",
    "        a = df_train[(df_train['sales_region_code'] == sales_region_code) & (df_train['first_cate_code'] == first_cate_code) & (df_train['second_cate_code'] == second_cate_code)]\n",
    "        predictions_df.loc[i] = {'sales_region_code': sales_region_code,\n",
    "                        'item_code': item_code,\n",
    "                        'first_cate_code': first_cate_code,\n",
    "                        'second_cate_code': second_cate_code}\n",
    "\n",
    "predictions_df.to_csv(\"pred-item_code.csv\", index=False, encoding='utf-8')\n",
    "print(predictions_df.shape)"
   ],
   "metadata": {
    "collapsed": false
   }
  },
  {
   "cell_type": "markdown",
   "source": [
    "pred-无和pred-item_code中不同的值，保存到different_rows.csv"
   ],
   "metadata": {
    "collapsed": false
   }
  },
  {
   "cell_type": "code",
   "execution_count": null,
   "outputs": [],
   "source": [
    "import pandas as pd\n",
    " # 读取 pred 和 pred-item_code 数据框\n",
    "pred_df = pd.read_csv('pred-无.csv')\n",
    "item_code_df = pd.read_csv('pred-item_code.csv')\n",
    " # 合并两个数据框，使用 left join\n",
    "merged_df = pred_df.merge(item_code_df, on='item_code', how='left', indicator=True)\n",
    " # 筛选出只在左侧数据框出现的行（即 pred-无 中有、而 pred-item_code 中没有的行）\n",
    "different_rows = merged_df[merged_df['_merge'] == 'left_only'].drop_duplicates()\n",
    "different_rows.shape\n",
    " # 保存为新的表\n",
    "different_rows.to_csv('different_rows.csv', index=False)"
   ],
   "metadata": {
    "collapsed": false
   }
  },
  {
   "cell_type": "markdown",
   "source": [
    "保存只有后3个特征在训练集中有，sales_region_code没有的代码"
   ],
   "metadata": {
    "collapsed": false
   }
  },
  {
   "cell_type": "code",
   "execution_count": 12,
   "outputs": [
    {
     "name": "stdout",
     "output_type": "stream",
     "text": [
      "(104, 4)\n"
     ]
    }
   ],
   "source": [
    "import pandas as pd\n",
    "\n",
    "df_diff = pd.read_csv('different_rows.csv', usecols=['sales_region_code', 'item_code', 'first_cate_code', 'second_cate_code'])\n",
    "\n",
    "df_merge = pd.merge(df_diff, df_train, on=['item_code', 'first_cate_code', 'second_cate_code'], how='left')\n",
    "\n",
    "df_result = df_merge[df_merge['sales_region_code_x'] != df_merge['sales_region_code_y']]\n",
    "df_result.drop(['sales_region_code_y','ord_qty'], axis=1, inplace=True)\n",
    "df_result.drop_duplicates(subset=['sales_region_code_x', 'item_code', 'first_cate_code', 'second_cate_code'],keep='first', inplace=True)\n",
    "df_result.rename(columns={'sales_region_code_x': 'sales_region_code'})\n",
    "df_result.to_csv('pred-sales_region_code.csv', index=False)\n",
    "print(df_result.shape)"
   ],
   "metadata": {
    "collapsed": false
   }
  },
  {
   "cell_type": "code",
   "execution_count": null,
   "outputs": [],
   "source": [],
   "metadata": {
    "collapsed": false
   }
  },
  {
   "cell_type": "code",
   "execution_count": null,
   "outputs": [],
   "source": [],
   "metadata": {
    "collapsed": false
   }
  },
  {
   "cell_type": "code",
   "execution_count": null,
   "outputs": [],
   "source": [],
   "metadata": {
    "collapsed": false
   }
  },
  {
   "cell_type": "code",
   "execution_count": null,
   "outputs": [],
   "source": [],
   "metadata": {
    "collapsed": false
   }
  },
  {
   "cell_type": "code",
   "execution_count": null,
   "outputs": [],
   "source": [],
   "metadata": {
    "collapsed": false
   }
  },
  {
   "cell_type": "code",
   "execution_count": null,
   "outputs": [],
   "source": [],
   "metadata": {
    "collapsed": false
   }
  },
  {
   "cell_type": "code",
   "execution_count": null,
   "outputs": [],
   "source": [],
   "metadata": {
    "collapsed": false
   }
  },
  {
   "cell_type": "code",
   "execution_count": null,
   "outputs": [],
   "source": [],
   "metadata": {
    "collapsed": false
   }
  }
 ],
 "metadata": {
  "kernelspec": {
   "display_name": "Python 3",
   "language": "python",
   "name": "python3"
  },
  "language_info": {
   "codemirror_mode": {
    "name": "ipython",
    "version": 2
   },
   "file_extension": ".py",
   "mimetype": "text/x-python",
   "name": "python",
   "nbconvert_exporter": "python",
   "pygments_lexer": "ipython2",
   "version": "2.7.6"
  }
 },
 "nbformat": 4,
 "nbformat_minor": 0
}
